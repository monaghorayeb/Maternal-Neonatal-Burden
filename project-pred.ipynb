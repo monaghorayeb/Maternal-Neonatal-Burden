{
 "cells": [
  {
   "cell_type": "code",
   "execution_count": 32,
   "metadata": {},
   "outputs": [],
   "source": [
    "import numpy as np\n",
    "import pandas as pd\n",
    "from sklearn.model_selection import train_test_split, GridSearchCV\n",
    "from sklearn.preprocessing import StandardScaler\n",
    "from sklearn.linear_model import LinearRegression\n",
    "from sklearn.metrics import mean_squared_error\n",
    "from sklearn.ensemble import RandomForestRegressor, GradientBoostingRegressor"
   ]
  },
  {
   "cell_type": "code",
   "execution_count": 33,
   "metadata": {},
   "outputs": [
    {
     "name": "stdout",
     "output_type": "stream",
     "text": [
      "<class 'pandas.core.frame.DataFrame'>\n",
      "RangeIndex: 2272 entries, 0 to 2271\n",
      "Data columns (total 11 columns):\n",
      " #   Column                                         Non-Null Count  Dtype  \n",
      "---  ------                                         --------------  -----  \n",
      " 0   MNM Rate                                       2272 non-null   float64\n",
      " 1   Maternal Hemorrhage Rate                       2272 non-null   float64\n",
      " 2   Maternal Sepsis and Infection Count            2272 non-null   float64\n",
      " 3   Maternal Sepsis and Infection                  2272 non-null   float64\n",
      " 4   Maternal Hypertensive Disorders Count          2272 non-null   float64\n",
      " 5   Maternal Obstructed Labor and Ruptured Uterus  2272 non-null   float64\n",
      " 6   Maternal Miscarriage and Abortion              2272 non-null   float64\n",
      " 7   HIV-AIDS                                       2272 non-null   float64\n",
      " 8   Neonatal Preterm Birth                         2272 non-null   float64\n",
      " 9   Neonatal Sepsis and Infection                  2272 non-null   float64\n",
      " 10  Neonatal Encephalopathy (at birth)             2272 non-null   float64\n",
      "dtypes: float64(11)\n",
      "memory usage: 195.4 KB\n"
     ]
    }
   ],
   "source": [
    "df = pd.read_csv(\"C:\\\\Users\\\\Lenovo\\\\OneDrive - American University of Beirut\\\\Desktop\\\\MSBA 350E\\\\Final Project\\\\dataset.csv\")\n",
    "\n",
    "df.info()"
   ]
  },
  {
   "cell_type": "code",
   "execution_count": 34,
   "metadata": {},
   "outputs": [
    {
     "data": {
      "text/plain": [
       "count    2272.000000\n",
       "mean      175.934905\n",
       "std       175.693334\n",
       "min         8.348253\n",
       "25%        50.033987\n",
       "50%       101.440419\n",
       "75%       245.909009\n",
       "max      1189.104800\n",
       "Name: MNM Rate, dtype: float64"
      ]
     },
     "execution_count": 34,
     "metadata": {},
     "output_type": "execute_result"
    }
   ],
   "source": [
    "df['MNM Rate'].describe()"
   ]
  },
  {
   "cell_type": "code",
   "execution_count": 35,
   "metadata": {},
   "outputs": [],
   "source": [
    "X = df.drop('MNM Rate', axis=1)\n",
    "y = df['MNM Rate']"
   ]
  },
  {
   "cell_type": "code",
   "execution_count": 36,
   "metadata": {},
   "outputs": [],
   "source": [
    "X_train, X_test, y_train, y_test = train_test_split(X, y, test_size=0.3, random_state=42)"
   ]
  },
  {
   "cell_type": "code",
   "execution_count": 43,
   "metadata": {},
   "outputs": [
    {
     "name": "stdout",
     "output_type": "stream",
     "text": [
      "Logistic Regression RMSE: 4.74111044330388\n"
     ]
    }
   ],
   "source": [
    "lr = LinearRegression()\n",
    "\n",
    "lr.fit(X_train, y_train)\n",
    "\n",
    "y_pred = lr.predict(X_test)\n",
    "\n",
    "rmse = np.sqrt(mean_squared_error(y_test, y_pred))\n",
    "\n",
    "print(f'Logistic Regression RMSE: {rmse}')"
   ]
  },
  {
   "cell_type": "code",
   "execution_count": 45,
   "metadata": {},
   "outputs": [
    {
     "name": "stdout",
     "output_type": "stream",
     "text": [
      "Random Forest RMSE: 5.88076042566215\n"
     ]
    }
   ],
   "source": [
    "rf = RandomForestRegressor(n_estimators=100, random_state=42)\n",
    "\n",
    "rf.fit(X_train, y_train)\n",
    "\n",
    "rf_y_pred = rf.predict(X_test)\n",
    "\n",
    "rf_rmse = np.sqrt(mean_squared_error(y_test, rf_y_pred))\n",
    "\n",
    "print(f'Random Forest RMSE: {rf_rmse}')"
   ]
  },
  {
   "cell_type": "code",
   "execution_count": 46,
   "metadata": {},
   "outputs": [
    {
     "name": "stdout",
     "output_type": "stream",
     "text": [
      "Gradient Boosting RMSE: 8.1491168448169\n"
     ]
    }
   ],
   "source": [
    "gb = GradientBoostingRegressor(n_estimators=100, random_state=42)\n",
    "\n",
    "gb.fit(X_train, y_train)\n",
    "gb_y_pred = gb.predict(X_test)\n",
    "\n",
    "gb_rmse = np.sqrt(mean_squared_error(y_test, gb_y_pred))\n",
    "\n",
    "print(f'Gradient Boosting RMSE: {gb_rmse}')\n"
   ]
  }
 ],
 "metadata": {
  "kernelspec": {
   "display_name": "base",
   "language": "python",
   "name": "python3"
  },
  "language_info": {
   "codemirror_mode": {
    "name": "ipython",
    "version": 3
   },
   "file_extension": ".py",
   "mimetype": "text/x-python",
   "name": "python",
   "nbconvert_exporter": "python",
   "pygments_lexer": "ipython3",
   "version": "3.11.5"
  }
 },
 "nbformat": 4,
 "nbformat_minor": 2
}
